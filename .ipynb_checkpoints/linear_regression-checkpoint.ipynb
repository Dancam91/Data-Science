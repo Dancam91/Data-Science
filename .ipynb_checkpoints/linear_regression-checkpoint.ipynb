{
 "cells": [
  {
   "cell_type": "markdown",
   "id": "d06c8a7c-54c9-41a8-82e0-bb6d93edb3c2",
   "metadata": {},
   "source": [
    "# Linear Regression"
   ]
  },
  {
   "cell_type": "markdown",
   "id": "c8156079-f616-430b-85e0-4fc473e01531",
   "metadata": {},
   "source": [
    "First we need to import the libraries"
   ]
  },
  {
   "cell_type": "code",
   "execution_count": 1,
   "id": "8dc2ac68-962e-4daf-b09c-57fb3caef8d7",
   "metadata": {},
   "outputs": [],
   "source": [
    "import pandas as pd\n",
    "import seaborn as sns\n",
    "import matplotlib.pyplot as plt\n",
    "from sklearn import datasets, linear_model\n",
    "from sklearn.model_selection import train_test_split\n",
    "import numpy as np"
   ]
  },
  {
   "cell_type": "markdown",
   "id": "dfefa1b2-bd50-40f0-9328-7ede8c9e6288",
   "metadata": {},
   "source": [
    "Next we are going to read the data. In this case the data is about city population and profit information."
   ]
  },
  {
   "cell_type": "code",
   "execution_count": 2,
   "id": "e6e4c6d5-ae6c-4250-ac9f-5bc7069ab069",
   "metadata": {},
   "outputs": [
    {
     "name": "stdout",
     "output_type": "stream",
     "text": [
      "0    17.5920\n",
      "1     9.1302\n",
      "2    13.6620\n",
      "3    11.8540\n",
      "4     6.8233\n",
      "Name: profit, dtype: float64\n",
      "   city_pop   profit\n",
      "0    6.1101  17.5920\n",
      "1    5.5277   9.1302\n",
      "2    8.5186  13.6620\n",
      "3    7.0032  11.8540\n",
      "4    5.8598   6.8233\n"
     ]
    }
   ],
   "source": [
    "d = pd.read_csv('ex1data1.txt', header=None, names=['city_pop', 'profit'])\n",
    "y = d.profit    #define dependant variable\n",
    "print(y.head())\n",
    "print(d.head())"
   ]
  },
  {
   "cell_type": "markdown",
   "id": "a7a2ca55-eed1-4c9c-8323-7229a5989bc9",
   "metadata": {},
   "source": [
    "Now lets plot the data to see how the data looks like."
   ]
  },
  {
   "cell_type": "code",
   "execution_count": 3,
   "id": "ba037c37-f694-4387-bf66-a2861795cb01",
   "metadata": {},
   "outputs": [
    {
     "data": {
      "text/plain": [
       "<AxesSubplot:xlabel='city_pop', ylabel='profit'>"
      ]
     },
     "execution_count": 3,
     "metadata": {},
     "output_type": "execute_result"
    },
    {
     "data": {
      "image/png": "[encoded data removed]",
      "text/plain": [
       "<Figure size 432x288 with 1 Axes>"
      ]
     },
     "metadata": {
      "needs_background": "light"
     },
     "output_type": "display_data"
    }
   ],
   "source": [
    "sns.scatterplot(data=d, x='city_pop', y='profit')"
   ]
  },
  {
   "cell_type": "markdown",
   "id": "b5e7d053-1914-4138-bdb2-ea49e7466979",
   "metadata": {},
   "source": [
    "Split the data  between training and testing data. We do this by splitting the dataset in a ratio 80% training data - 20% test data."
   ]
  },
  {
   "cell_type": "code",
   "execution_count": 4,
   "id": "ead936d6-e3be-4892-afa3-912bbf79d570",
   "metadata": {},
   "outputs": [
    {
     "name": "stdout",
     "output_type": "stream",
     "text": [
      "(77,) (77,)\n",
      "(20,) (20,)\n"
     ]
    }
   ],
   "source": [
    "X_train, X_test, y_train, y_test = train_test_split(d.city_pop, y, test_size=0.2)\n",
    "print(X_train.shape, y_train.shape)\n",
    "print(X_test.shape, y_test.shape)"
   ]
  },
  {
   "cell_type": "markdown",
   "id": "b0cd4950-335d-45ae-9853-36e82eaf50c7",
   "metadata": {},
   "source": [
    "Now, you have two arrays: the input x and output y. You should call .reshape() on x because this array is required to be two-dimensional, or to be more precise, to have one column and as many rows as necessary. That’s exactly what the argument (-1, 1) of .reshape() specifies. "
   ]
  },
  {
   "cell_type": "code",
   "execution_count": 5,
   "id": "cb80bf46-5e5a-4072-a60c-3daafbafb214",
   "metadata": {
    "scrolled": true,
    "tags": []
   },
   "outputs": [
    {
     "name": "stdout",
     "output_type": "stream",
     "text": [
      "(77, 1)\n",
      "(20, 1)\n"
     ]
    }
   ],
   "source": [
    "X_train = X_train.to_numpy().reshape((-1, 1))\n",
    "print(X_train.shape)\n",
    "\n",
    "X_test = X_test.to_numpy().reshape((-1, 1))\n",
    "print(X_test.shape)"
   ]
  },
  {
   "cell_type": "markdown",
   "id": "00f97d9d-2d4c-43bb-ba89-ab8b008cdb0c",
   "metadata": {},
   "source": [
    "Create the linear regression model"
   ]
  },
  {
   "cell_type": "code",
   "execution_count": 6,
   "id": "831d349d-32b3-41cd-b41b-52000e4ee13d",
   "metadata": {},
   "outputs": [
    {
     "name": "stdout",
     "output_type": "stream",
     "text": [
      "[3.51553517 2.61130483 2.20031307 3.58651695 2.60246239]\n",
      "<class 'numpy.ndarray'>\n"
     ]
    }
   ],
   "source": [
    "lm = linear_model.LinearRegression()\n",
    "model = lm.fit(X_train, y_train)\n",
    "predictions = lm.predict(X_test)\n",
    "\n",
    "print(predictions[0:5])\n",
    "print(type(predictions)) "
   ]
  },
  {
   "cell_type": "code",
   "execution_count": 7,
   "id": "82085029-d745-4771-9c35-3d76d2957c4b",
   "metadata": {},
   "outputs": [
    {
     "name": "stdout",
     "output_type": "stream",
     "text": [
      "Train score: 0.7203519272481116\n",
      "Test score: 0.08490078832828407\n",
      "Intercept: -4.084360323582674\n",
      "Slope: [1.21129315]\n"
     ]
    }
   ],
   "source": [
    "print('Train score:', model.score(X_train, y_train))\n",
    "print('Test score:', model.score(X_test, y_test))\n",
    "print('Intercept:', model.intercept_)\n",
    "print('Slope:', model.coef_)"
   ]
  },
  {
   "cell_type": "code",
   "execution_count": 8,
   "id": "e4fcc766-d512-4dce-bdc7-71c288213cd5",
   "metadata": {},
   "outputs": [
    {
     "data": {
      "text/plain": [
       "<AxesSubplot:ylabel='profit'>"
      ]
     },
     "execution_count": 8,
     "metadata": {},
     "output_type": "execute_result"
    },
    {
     "data": {
      "image/png": "[encoded data removed]",
      "text/plain": [
       "<Figure size 432x288 with 1 Axes>"
      ]
     },
     "metadata": {
      "needs_background": "light"
     },
     "output_type": "display_data"
    }
   ],
   "source": [
    "sns.scatterplot(y = y_test, x = predictions)"
   ]
  },
  {
   "cell_type": "markdown",
   "id": "01118340-4113-4214-bc75-3ebf5c3c984f",
   "metadata": {},
   "source": [
    "## Cross validation"
   ]
  },
  {
   "cell_type": "markdown",
   "id": "83f11d75-2aa2-480a-b367-9c6597f95636",
   "metadata": {},
   "source": [
    "We split our data into k subsets, and train on k-1 one of those subset. What we do is to hold the last subset for test. We’re able to do it for each of the subsets."
   ]
  },
  {
   "cell_type": "markdown",
   "id": "a49f50e9-6461-4982-b1b7-f74b7d527e9d",
   "metadata": {},
   "source": [
    "### K-Folds Cross Validation\n",
    "In K-Folds Cross Validation we split our data into k different subsets (or folds). We use k-1 subsets to train our data and leave the last subset (or the last fold) as test data. We then average the model against each of the folds and then finalize our model. After that we test it against the test set."
   ]
  },
  {
   "cell_type": "code",
   "execution_count": 9,
   "id": "f2f1d3f8-9825-4678-b33d-e9f8d204372e",
   "metadata": {},
   "outputs": [
    {
     "name": "stdout",
     "output_type": "stream",
     "text": [
      "(97, 1) (97, 1)\n"
     ]
    }
   ],
   "source": [
    "from sklearn.model_selection import KFold\n",
    "\n",
    "d = pd.read_csv('ex1data1.txt', header=None, names=['city_pop', 'profit'])\n",
    "K_X = d.city_pop.to_numpy().reshape((-1,1))\n",
    "K_y = d.profit.to_numpy().reshape((-1,1))\n",
    "\n",
    "print(K_X.shape, K_y.shape)"
   ]
  },
  {
   "cell_type": "code",
   "execution_count": 10,
   "id": "c6c67e5f-dbf8-428e-b3bf-75972568d51b",
   "metadata": {},
   "outputs": [
    {
     "name": "stdout",
     "output_type": "stream",
     "text": [
      "KFold(n_splits=3, random_state=None, shuffle=False)\n"
     ]
    }
   ],
   "source": [
    "kf = KFold(n_splits=3)    #Define the split into 3 folds\n",
    "kf.get_n_splits(K_X)        #Returns the number of splitting iterations in the cross validator\n",
    "\n",
    "print(kf)"
   ]
  },
  {
   "cell_type": "code",
   "execution_count": 11,
   "id": "254cdc55-ac2c-421f-b4dd-b24d41394449",
   "metadata": {},
   "outputs": [
    {
     "name": "stdout",
     "output_type": "stream",
     "text": [
      "Train score: 0.8040300331476276\n",
      "Test score: 0.42796656255156795\n",
      "Intercept: [-4.31706072]\n",
      "Slope: [[1.09991238]]\n",
      "Train score: 0.699349213685128\n",
      "Test score: 0.6160833371458992\n",
      "Intercept: [-4.07429687]\n",
      "Slope: [[1.28641193]]\n",
      "Train score: 0.6902447763063502\n",
      "Test score: 0.5944182311360414\n",
      "Intercept: [-3.02456354]\n",
      "Slope: [[1.15759754]]\n"
     ]
    }
   ],
   "source": [
    "for train_index, test_index in kf.split(K_X):\n",
    "    #print(\"Train:\", train_index, \"Test:\", test_index)\n",
    "    K_X_train, K_X_test = K_X[train_index], K_X[test_index]\n",
    "    K_y_train, K_y_test = K_y[train_index], K_y[test_index]\n",
    "    \n",
    "    lm = linear_model.LinearRegression()\n",
    "    model = lm.fit(K_X_train, K_y_train)\n",
    "    \n",
    "    print('Train score:', model.score(K_X_train, K_y_train))\n",
    "    print('Test score:', model.score(K_X_test, K_y_test))\n",
    "    print('Intercept:', model.intercept_)\n",
    "    print('Slope:', model.coef_)"
   ]
  },
  {
   "cell_type": "markdown",
   "id": "8340843d-6c34-4f9b-a462-e42e8f8ad566",
   "metadata": {},
   "source": [
    "As you can see from the results above, the first model was probably overfitted since the score for the training data is high but perfomed poorly in the test data"
   ]
  },
  {
   "cell_type": "code",
   "execution_count": 12,
   "id": "808bbff2-c4ad-4f0e-a200-c7bf2fa7e2ba",
   "metadata": {},
   "outputs": [],
   "source": [
    "K_X_train, K_X_test = K_X[train_index], K_X[test_index]\n",
    "K_y_train, K_y_test = K_y[train_index], K_y[test_index]"
   ]
  },
  {
   "cell_type": "markdown",
   "id": "7750875b-7cdb-4d76-8574-bec9c6e3aab7",
   "metadata": {},
   "source": [
    "Lets plot the three different results"
   ]
  },
  {
   "cell_type": "code",
   "execution_count": 13,
   "id": "7a4213b0-e7e6-44c5-9964-6628a3c5296f",
   "metadata": {},
   "outputs": [
    {
     "data": {
      "text/plain": [
       "[<matplotlib.lines.Line2D at 0x7f3e5032ba30>]"
      ]
     },
     "execution_count": 13,
     "metadata": {},
     "output_type": "execute_result"
    },
    {
     "data": {
      "image/png": "[encoded data removed]",
      "text/plain": [
       "<Figure size 432x288 with 1 Axes>"
      ]
     },
     "metadata": {
      "needs_background": "light"
     },
     "output_type": "display_data"
    }
   ],
   "source": [
    "y_1 = -4.31706 + 1.099912 * d.city_pop\n",
    "y_2 = -4.07429687 + 1.28641193 * d.city_pop\n",
    "y_3 = -3.02456354 + 1.15759754 * d.city_pop\n",
    "\n",
    "sns.scatterplot(data=d, x='city_pop', y='profit')\n",
    "plt.plot(d.city_pop, y_1, color='r')\n",
    "plt.plot(d.city_pop, y_2, color='c')\n",
    "plt.plot(d.city_pop, y_3, color='g')"
   ]
  },
  {
   "cell_type": "code",
   "execution_count": null,
   "id": "6d4a5d8e-4b5b-42a4-ba41-427b37ae31ef",
   "metadata": {},
   "outputs": [],
   "source": []
  }
 ],
 "metadata": {
  "kernelspec": {
   "display_name": "Python 3",
   "language": "python",
   "name": "python3"
  },
  "language_info": {
   "codemirror_mode": {
    "name": "ipython",
    "version": 3
   },
   "file_extension": ".py",
   "mimetype": "text/x-python",
   "name": "python",
   "nbconvert_exporter": "python",
   "pygments_lexer": "ipython3",
   "version": "3.8.10"
  }
 },
 "nbformat": 4,
 "nbformat_minor": 5
}
